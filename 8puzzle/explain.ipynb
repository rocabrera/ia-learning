{
 "cells": [
  {
   "cell_type": "code",
   "execution_count": 2,
   "id": "d0a4248e-e948-4984-99c3-21cdc06058b3",
   "metadata": {
    "tags": []
   },
   "outputs": [],
   "source": [
    "from game import Puzzle8\n",
    "\n",
    "s0 = [[7,2,4],\n",
    "      [5,0,6],\n",
    "      [8,3,1]]\n",
    "\n",
    "s_goal = [[1,2,3],\n",
    "          [4,5,6],\n",
    "          [7,8,0]]\n",
    "\n",
    "game = Puzzle8(s0, s_goal)\n",
    "sol1, n1 = game.astar(\"manhattan\")\n",
    "# sol2, n2 = game.astar(\"soma\")\n",
    "# sol3, n3 = game.bfs()"
   ]
  },
  {
   "cell_type": "code",
   "execution_count": 3,
   "id": "d2fc8ba6-81e3-42c7-94eb-db68ab950346",
   "metadata": {},
   "outputs": [
    {
     "data": {
      "text/plain": [
       "12095"
      ]
     },
     "execution_count": 3,
     "metadata": {},
     "output_type": "execute_result"
    }
   ],
   "source": []
  },
  {
   "cell_type": "code",
   "execution_count": null,
   "id": "58b4cb3e-63f8-480f-9f5b-f373817e5cd0",
   "metadata": {},
   "outputs": [],
   "source": [
    "print(n1,n2,n3)"
   ]
  },
  {
   "cell_type": "code",
   "execution_count": null,
   "id": "3d580bd2-4a0f-4c8d-84f3-25a2b0c7fc8b",
   "metadata": {
    "tags": []
   },
   "outputs": [],
   "source": [
    "game.dfs()"
   ]
  },
  {
   "cell_type": "code",
   "execution_count": null,
   "id": "ee9d6cc4-93d9-484b-92f5-52721d1c9033",
   "metadata": {},
   "outputs": [],
   "source": [
    "from collections import deque\n"
   ]
  },
  {
   "cell_type": "code",
   "execution_count": null,
   "id": "6ae39469-27e9-4598-8359-752d18f902f3",
   "metadata": {},
   "outputs": [],
   "source": [
    "a = deque([2,1,1,1,1,1])\n"
   ]
  },
  {
   "cell_type": "code",
   "execution_count": null,
   "id": "d2a5dca8-b408-4301-81e0-7614d7e41c6f",
   "metadata": {},
   "outputs": [],
   "source": [
    "a.popleft()"
   ]
  },
  {
   "cell_type": "code",
   "execution_count": null,
   "id": "0659c1ca-d95d-45d1-b79b-34a13ab4f259",
   "metadata": {},
   "outputs": [],
   "source": []
  }
 ],
 "metadata": {
  "kernelspec": {
   "display_name": "venv_playground",
   "language": "python",
   "name": "venv_playground"
  },
  "language_info": {
   "codemirror_mode": {
    "name": "ipython",
    "version": 3
   },
   "file_extension": ".py",
   "mimetype": "text/x-python",
   "name": "python",
   "nbconvert_exporter": "python",
   "pygments_lexer": "ipython3",
   "version": "3.9.6"
  }
 },
 "nbformat": 4,
 "nbformat_minor": 5
}
