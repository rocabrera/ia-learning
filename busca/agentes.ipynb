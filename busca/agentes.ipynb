{
 "cells": [
  {
   "cell_type": "markdown",
   "id": "c5f0d50c-144c-424e-b079-6e6eee533f35",
   "metadata": {},
   "source": [
    "**Agente**: Percebe o **ambiente** por meio de por exemplo **sensores** e toma certas **ações** para atingir um certo objetivo."
   ]
  },
  {
   "cell_type": "markdown",
   "id": "81234a0c-afc8-442c-a571-7712a09e35fd",
   "metadata": {},
   "source": [
    "**Estado:** é uma descrição de tudo que o agente pode\n",
    "perceber do ambiente em dado momento."
   ]
  },
  {
   "cell_type": "markdown",
   "id": "45b84a1c-9299-4b51-90d2-43e688b38e4e",
   "metadata": {},
   "source": [
    "Para formalizar um problema precisamos:\n",
    "    \n",
    "- **Estado Inicial**: Estado no qual o agente começa a busca.\n",
    "- **Possíveis ações**: Função que mapeia o estado atual para o conjunto de possíveis ações a serem tomadas, isto é, ```ações(s)```.\n",
    "- **Modelo de transição**: Função que dado um estado e uma ação retorna o novo estado, isto é, ```resultado(s,a)```.\n",
    "- **Função de objetivo**: Função que indica se o objetivo do agente foi atingido.\n",
    "- **Custo de caminho**: Função que indica o custo de sair de um estado ```s``` e chegar no estado ```s'``` por meio da ação ```a```, isto é, ```custo(s,a,s')```."
   ]
  },
  {
   "cell_type": "markdown",
   "id": "2dce0582-20e0-43da-9080-cf656a340fa4",
   "metadata": {},
   "source": [
    "---"
   ]
  },
  {
   "cell_type": "markdown",
   "id": "abe8fbc3-6efe-4f32-9e64-68f6e3f4e021",
   "metadata": {},
   "source": [
    "Exemplos:\n",
    "\n",
    "<font color=\"orange\">Usando somente 4 cores, você deve colorir um mapa de forma que duas regiões (ou países) adjacentes não tenham a mesma cor.</font>\n",
    "\n",
    "Dado que um Estado é o conjunto das cores de todos os países em dado momento e suponha que existem $n$ países:\n",
    "- **Estado Inicial**: Todos os países não estão coloridos.\n",
    "- **Possíveis ações**: Colorir com uma das 4 cores um dado país.\n",
    "- **Modelo de transição**: Dado um estado eu vou tomar uma ação e ir para outro estado.\n",
    "- **Função de objetivo**: Se a quantidade de países coloridos é igual a $n$.\n",
    "- **Custo de caminho**: Todas as transições de estado (dado uma ação) tem custo unitário.\n",
    "\n",
    "\n",
    "<font color=\"orange\">Um macaco de 1 m de altura está em uma sala onde há algumas bananas suspensas a 2,5 m de altura. Ele gostaria de pegar as bananas. A sala contém duas caixas móveis de 1 m de altura, passíveis de serem empilhadas e escaladas. </font>\n",
    "\n",
    "- **Estado Inicial**: \n",
    "- **Possíveis ações**: \n",
    "- **Modelo de transição**: \n",
    "- **Função de objetivo**: \n",
    "- **Custo de caminho**: "
   ]
  },
  {
   "cell_type": "markdown",
   "id": "135c3cb5-1144-4b5d-aad1-508da8d55d2e",
   "metadata": {},
   "source": [
    "Problema:\n",
    "\n",
    "<font color=\"yellow\">Três missionários e três canibais encontram-se\n",
    "3\n",
    "em um mesma margem de um rio, e possuem ao alcance um\n",
    "barco a remo que pode carregar uma ou duas pessoas. Encontre\n",
    "uma maneira de levar todos para a outra margem do rio sem\n",
    "nunca deixar um grupo de missionários com número de pessoas\n",
    "menor que aquele dos canibais.</font>\n",
    "\n",
    "- **Estado Inicial**: Todos os as pessoas estão de um lado do rio.\n",
    "- **Possíveis ações**: Depende do lado do rio, mas 2 missionário, 2 canibais, 1 missionário e 1 canibal.\n",
    "- **Modelo de transição**: Tomar o barco.\n",
    "- **Função de objetivo**: Todas as pessoas do outro lado do rio.\n",
    "- **Custo de caminho**: ."
   ]
  },
  {
   "cell_type": "code",
   "execution_count": null,
   "id": "9e05d8fa-ef30-40b6-8f86-0994ecdc126e",
   "metadata": {},
   "outputs": [],
   "source": []
  }
 ],
 "metadata": {
  "kernelspec": {
   "display_name": "venv_playground",
   "language": "python",
   "name": "venv_playground"
  },
  "language_info": {
   "codemirror_mode": {
    "name": "ipython",
    "version": 3
   },
   "file_extension": ".py",
   "mimetype": "text/x-python",
   "name": "python",
   "nbconvert_exporter": "python",
   "pygments_lexer": "ipython3",
   "version": "3.9.6"
  }
 },
 "nbformat": 4,
 "nbformat_minor": 5
}
