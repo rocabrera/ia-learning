{
 "cells": [
  {
   "cell_type": "markdown",
   "id": "bf01787c-efaf-44d7-9a05-27ec01c5cf0e",
   "metadata": {},
   "source": [
    "Onde ```s``` é um estado e:\n",
    "\n",
    "- ```ações(s)``` : Função que mapeia o estado atual para o conjunto de possíveis ações a serem tomadas.\n",
    "- ```resultado(s,a)``` : Função que dado um estado e uma ação retorna o novo estado.\n",
    "- ```solucao(s)``` : Função que checa se o estado é o estado objetivo.\n",
    "\n",
    "```python\n",
    "\n",
    "def buscaLargura(estados):\n",
    "    new_estados = []\n",
    "    for s in estados:\n",
    "        new_s = [resultado(s,a) for a in acoes(s)]\n",
    "        new_estados = new_estados + new_s\n",
    "    if any(atingiuObj(s) for s in new_estados)\n",
    "        return solucao(new_estados)\n",
    "    return buscaLargura(new_estados)\n",
    "\n",
    "\n",
    "def buscaProfundidade(s):\n",
    "    for a in acoes(s):\n",
    "        sol = buscaProfundidade(resultado(s,a))\n",
    "        if atingiuObj(sol):\n",
    "            return sol\n",
    "    return Falha\n",
    "```\n",
    "\n",
    "A busca em profundidade pode ser muito custosa, por isso existe uma variante onde podemos definir a profundidade da busca:\n",
    "```python\n",
    "def buscaProfundidadeLimite(s, profundidade):\n",
    "    if profundidade > limite:\n",
    "        return Falha\n",
    "    for a in acoes(s):\n",
    "        sol = buscaProfundidade(resultado(s,a), profundidade+1)\n",
    "        if atingiuObj(sol):\n",
    "            return sol\n",
    "    return Falha\n",
    "```"
   ]
  },
  {
   "cell_type": "markdown",
   "id": "be1b4dda-6ed3-4c2c-a79c-aabbcd308822",
   "metadata": {
    "tags": []
   },
   "source": [
    "## Complexidade dos algoritmos\n",
    "\n",
    "| Critério | Largura | Profundidade |\n",
    "| ---    |   ---    |    ---   |\n",
    "| Tempo  | $O(b^d)$ | $O(b^m)$ |\n",
    "| Espaço | $O(b^d)$ | $O(bm)$  |\n",
    "\n",
    "Onde:\n",
    "- $b$: Fator de ramificação.\n",
    "- $d$: Profundidade máxima da árvore de busca."
   ]
  },
  {
   "cell_type": "markdown",
   "id": "7b81cc03-7933-4846-a712-fe4d0b13e609",
   "metadata": {},
   "source": [
    "Problema\n",
    "\n",
    "\n",
    "<font color=\"orange\">Considere um espaço de estados em que o estado inicial é 1 e\n",
    "cada estado ```k``` tem dois sucessores: os números ```2k``` e ```2k+1```.</font>"
   ]
  },
  {
   "cell_type": "markdown",
   "id": "d1dc393d-5b1b-46fb-9d44-b91ebfa1aba7",
   "metadata": {},
   "source": [
    "- Desenhe a parte dos espaço de estados que cubra os estados de 1 a 15."
   ]
  },
  {
   "cell_type": "code",
   "execution_count": 7,
   "id": "49eaa0ca-f8c7-450c-b402-c072779e4174",
   "metadata": {},
   "outputs": [
    {
     "name": "stdout",
     "output_type": "stream",
     "text": [
      "[1]\n",
      "[2, 3]\n",
      "[4, 5, 6, 7]\n"
     ]
    }
   ],
   "source": [
    "import numpy as np\n",
    "\n",
    "def generate_states(k):\n",
    "    return [2*k, 2*k + 1]\n",
    "\n",
    "def buscaLargura(estados, max_size):\n",
    "    \n",
    "    new_estados = []\n",
    "#     tabs = max_size*\"\\t\"\n",
    "#     test = (max_size+1)*\"\\t\"\n",
    "#     print_estatos = f\"{test}\".join(map(str,estados))\n",
    "#     print(f\"{tabs}{print_estatos}{tabs}\")\n",
    "    print(estados)\n",
    "    \n",
    "    for s in estados:\n",
    "        new_estados.extend(generate_states(s))\n",
    "        \n",
    "    if max_size == 0:\n",
    "        return None\n",
    "    return buscaLargura(new_estados, max_size-1)\n",
    "\n",
    "buscaLargura([1], np.floor(np.log2(6)))\n"
   ]
  },
  {
   "cell_type": "code",
   "execution_count": 8,
   "id": "a2fe4851-2075-4d27-a2ca-81ba3c721180",
   "metadata": {},
   "outputs": [
    {
     "name": "stdout",
     "output_type": "stream",
     "text": [
      "[1]\n",
      "[2, 3]\n",
      "[4, 5, 6, 7]\n",
      "[8, 9, 10, 11, 12, 13, 14, 15]\n"
     ]
    }
   ],
   "source": [
    "def buscaLargura(estados, max_size):\n",
    "    \n",
    "    new_estados = []\n",
    "#     tabs = max_size*\"\\t\"\n",
    "#     test = (max_size+1)*\"\\t\"\n",
    "#     print_estatos = f\"{test}\".join(map(str,estados))\n",
    "#     print(f\"{tabs}{print_estatos}{tabs}\")\n",
    "    print(estados)\n",
    "    for s in estados:\n",
    "        new_estados.extend(generate_states(s))\n",
    "    if max_size == 0:\n",
    "        return None\n",
    "    return buscaLargura(new_estados, max_size-1)\n",
    "\n",
    "until = 11\n",
    "buscaLargura([1],max_size = int(np.floor(np.log2(until))))"
   ]
  },
  {
   "cell_type": "code",
   "execution_count": null,
   "id": "a36bcfcb-db62-4eb0-a23e-77319cd89e18",
   "metadata": {},
   "outputs": [],
   "source": []
  }
 ],
 "metadata": {
  "kernelspec": {
   "display_name": "venv_playground",
   "language": "python",
   "name": "venv_playground"
  },
  "language_info": {
   "codemirror_mode": {
    "name": "ipython",
    "version": 3
   },
   "file_extension": ".py",
   "mimetype": "text/x-python",
   "name": "python",
   "nbconvert_exporter": "python",
   "pygments_lexer": "ipython3",
   "version": "3.9.6"
  }
 },
 "nbformat": 4,
 "nbformat_minor": 5
}
