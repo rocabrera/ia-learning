{
 "cells": [
  {
   "cell_type": "markdown",
   "id": "4642f038-8071-4721-8609-81847029660a",
   "metadata": {},
   "source": [
    "# **Intro**\n",
    "\n",
    "A sigla **PEAS** descreve propriedades que levamos em consideração quando construimos nossos agentes.\n",
    "\n",
    "- **P**erformance\n",
    "- **E**nviroment\n",
    "- **A**ctuators\n",
    "- **S**ensors\n",
    "\n"
   ]
  },
  {
   "cell_type": "markdown",
   "id": "c0d53205-f7fb-4f99-8e2b-bb6f529c3a23",
   "metadata": {},
   "source": [
    "| Agente | Performance | Enviroment | Actuators | Sensors |\n",
    "| ---    |     ---     |     ---    |    ---    |   ---   |\n",
    "| Motorista | Seguro | ruas      | direção | cameras |\n",
    "| Uber | rapido      | estradas  | acelerar | velocimetro |\n",
    "|      | confortavel | pedestres | buzinar | GPS |"
   ]
  },
  {
   "cell_type": "markdown",
   "id": "d8a1bd20-018f-4ae7-bc89-3aaad2649107",
   "metadata": {},
   "source": [
    "# **Características dos ambientes**\n",
    "\n",
    "- Um ambiente é dito totalmente observável quando os sensores de um agente conseguem medir todo o estado atual do ambiente. Caso contrário ele é parcialmente observável.\n",
    "\n",
    "- Quando o próximo estado é completamente determinado pelo estado atual em conjunto com a ação executada dizemos que o ambiente é **determinístico**. Entretanto, quando existem incertezas no ambiente, como por exemplo um estado descrito probabilisticamente, dizemos que o ambiente é **estocástico**. \n",
    "\n",
    "- Se o problema demanda mais de um agente dizemos que o ambiente é **multi-agente**, como exemplo um jogo de xadrez (competitivo) ou todos combatendo um vírus (cooperativo).\n",
    "\n",
    "- Além disso, o ambiente pode ser **episódico**, isto é, o agente observa o ambiente e age sem levar em consideração os episódios anteriores ou o ambiente pode ser **sequencial** que leva em consideração todos as ações anteriores do agente para tomar uma decisão. \n",
    "\n",
    "- O ambiente é dito **dinâmico** quando o estado se altera enquanto o agente não toma uma decisão. Caso contrário o ambiente é dito como **estático**.\n",
    "\n",
    "- O ambiente é dito **discreto** quando contém um conjunto finito de possíveis estados. Caso contrário o ambiente é dito como **contínuo**.\n",
    "\n",
    "- O ambiente é dito **conhecido** se o agente conhece todas as possíveis ações que podem ser feitas. Caso contrário o ambiente é dito como **desconhecido**."
   ]
  },
  {
   "cell_type": "code",
   "execution_count": null,
   "id": "0a35d9e5-5f85-40bf-8938-aacde6730aa5",
   "metadata": {},
   "outputs": [],
   "source": []
  }
 ],
 "metadata": {
  "kernelspec": {
   "display_name": "venv_playground",
   "language": "python",
   "name": "venv_playground"
  },
  "language_info": {
   "codemirror_mode": {
    "name": "ipython",
    "version": 3
   },
   "file_extension": ".py",
   "mimetype": "text/x-python",
   "name": "python",
   "nbconvert_exporter": "python",
   "pygments_lexer": "ipython3",
   "version": "3.9.4"
  }
 },
 "nbformat": 4,
 "nbformat_minor": 5
}
